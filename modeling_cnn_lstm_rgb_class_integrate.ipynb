{
 "cells": [
  {
   "cell_type": "markdown",
   "id": "cellular-cleveland",
   "metadata": {},
   "source": [
    "# 2. Modeling"
   ]
  },
  {
   "cell_type": "markdown",
   "id": "boxed-citizen",
   "metadata": {},
   "source": [
    "### 2.0 Load Train, Val, Test (Numpy Array)\n",
    "\n",
    "- Gray Scale : Data_gray 폴더 안에 .npy 파일이 있으면 된다.\n",
    "- RGB Scale : Data 폴더 안에 .npy 파일이 있으면 된다."
   ]
  },
  {
   "cell_type": "markdown",
   "id": "frozen-brazilian",
   "metadata": {},
   "source": [
    "#### Scale 설정\n",
    "- scale = 'gray'\n",
    "- scale = 'rgb'"
   ]
  },
  {
   "cell_type": "code",
   "execution_count": 1,
   "id": "narrow-rescue",
   "metadata": {},
   "outputs": [],
   "source": [
    "scale = 'rgb'\n",
    "data_dir = 'Data_class_integrate_4'\n",
    "channel = 3"
   ]
  },
  {
   "cell_type": "code",
   "execution_count": 2,
   "id": "neural-assurance",
   "metadata": {},
   "outputs": [
    {
     "name": "stdout",
     "output_type": "stream",
     "text": [
      "X_test.npy  X_train.npy  X_val.npy  y_test.npy\ty_train.npy  y_val.npy\r\n"
     ]
    }
   ],
   "source": [
    "!ls {data_dir}"
   ]
  },
  {
   "cell_type": "markdown",
   "id": "plastic-prairie",
   "metadata": {},
   "source": [
    "#### Load Data"
   ]
  },
  {
   "cell_type": "code",
   "execution_count": 3,
   "id": "located-burner",
   "metadata": {
    "scrolled": true
   },
   "outputs": [
    {
     "name": "stdout",
     "output_type": "stream",
     "text": [
      "(300, 64, 128, 128, 3) (300, 4)\n",
      "(100, 64, 128, 128, 3) (100, 4)\n",
      "(100, 64, 128, 128, 3) (100, 4)\n"
     ]
    }
   ],
   "source": [
    "import os\n",
    "import numpy as np\n",
    "\n",
    "if os.path.exists(data_dir):\n",
    "    X_train = np.load(data_dir + '/X_train.npy')\n",
    "    y_train = np.load(data_dir + '/y_train.npy')\n",
    "    X_val = np.load(data_dir + '/X_val.npy')\n",
    "    y_val = np.load(data_dir + '/y_val.npy')\n",
    "    X_test = np.load(data_dir + '/X_test.npy')\n",
    "    y_test = np.load(data_dir + '/y_test.npy')\n",
    "\n",
    "    print(X_train.shape, y_train.shape)\n",
    "    print(X_val.shape, y_val.shape)\n",
    "    print(X_test.shape, y_test.shape)"
   ]
  },
  {
   "cell_type": "code",
   "execution_count": 4,
   "id": "civil-rings",
   "metadata": {},
   "outputs": [],
   "source": [
    "X_train = X_train.astype(float) / 255\n",
    "X_val = X_val.astype(float) / 255\n",
    "X_test = X_test.astype(float) / 255"
   ]
  },
  {
   "cell_type": "markdown",
   "id": "human-skirt",
   "metadata": {},
   "source": [
    "### 2.1 CNN + LSTM"
   ]
  },
  {
   "cell_type": "markdown",
   "id": "introductory-formula",
   "metadata": {},
   "source": [
    "#### 모델 이름 설정"
   ]
  },
  {
   "cell_type": "code",
   "execution_count": 5,
   "id": "intimate-juvenile",
   "metadata": {},
   "outputs": [],
   "source": [
    "model_name = 'cnn_lstm_class_integrate'"
   ]
  },
  {
   "cell_type": "markdown",
   "id": "invisible-database",
   "metadata": {},
   "source": [
    "#### Parameters"
   ]
  },
  {
   "cell_type": "code",
   "execution_count": 6,
   "id": "static-measurement",
   "metadata": {},
   "outputs": [],
   "source": [
    "epochs = 10\n",
    "batch_size = 8"
   ]
  },
  {
   "cell_type": "markdown",
   "id": "optional-start",
   "metadata": {},
   "source": [
    "### 2.1.1 Model Define"
   ]
  },
  {
   "cell_type": "code",
   "execution_count": 7,
   "id": "incorporate-agent",
   "metadata": {
    "scrolled": true
   },
   "outputs": [
    {
     "name": "stdout",
     "output_type": "stream",
     "text": [
      "Model: \"sequential\"\n",
      "_________________________________________________________________\n",
      "Layer (type)                 Output Shape              Param #   \n",
      "=================================================================\n",
      "time_distributed (TimeDistri (None, 64, 126, 126, 32)  896       \n",
      "_________________________________________________________________\n",
      "time_distributed_1 (TimeDist (None, 64, 63, 63, 32)    0         \n",
      "_________________________________________________________________\n",
      "time_distributed_2 (TimeDist (None, 64, 61, 61, 64)    18496     \n",
      "_________________________________________________________________\n",
      "time_distributed_3 (TimeDist (None, 64, 30, 30, 64)    0         \n",
      "_________________________________________________________________\n",
      "time_distributed_4 (TimeDist (None, 64, 28, 28, 128)   73856     \n",
      "_________________________________________________________________\n",
      "time_distributed_5 (TimeDist (None, 64, 14, 14, 128)   0         \n",
      "_________________________________________________________________\n",
      "time_distributed_6 (TimeDist (None, 64, 25088)         0         \n",
      "_________________________________________________________________\n",
      "lstm (LSTM)                  (None, 256)               25953280  \n",
      "_________________________________________________________________\n",
      "dense (Dense)                (None, 4)                 1028      \n",
      "=================================================================\n",
      "Total params: 26,047,556\n",
      "Trainable params: 26,047,556\n",
      "Non-trainable params: 0\n",
      "_________________________________________________________________\n"
     ]
    }
   ],
   "source": [
    "from keras.layers import TimeDistributed, Conv2D, MaxPooling2D, Flatten, LSTM, Dense\n",
    "from keras.models import Sequential\n",
    "\n",
    "model = Sequential()\n",
    "model.add(TimeDistributed(Conv2D(32, (3, 3), activation = 'relu'), input_shape = (64, 128, 128, channel)))\n",
    "model.add(TimeDistributed(MaxPooling2D((2, 2))))\n",
    "\n",
    "model.add(TimeDistributed(Conv2D(64, (3, 3), activation = 'relu')))\n",
    "model.add(TimeDistributed(MaxPooling2D((2, 2))))\n",
    "\n",
    "model.add(TimeDistributed(Conv2D(128, (3, 3), activation = 'relu')))\n",
    "model.add(TimeDistributed(MaxPooling2D((2, 2))))\n",
    "\n",
    "model.add(TimeDistributed(Flatten()))\n",
    "\n",
    "model.add(LSTM(256))    \n",
    "model.add(Dense(4, activation = 'softmax'))\n",
    "\n",
    "model.summary()"
   ]
  },
  {
   "cell_type": "markdown",
   "id": "inclusive-europe",
   "metadata": {},
   "source": [
    "### 2.1.2 Model Compile"
   ]
  },
  {
   "cell_type": "code",
   "execution_count": 8,
   "id": "extra-bride",
   "metadata": {},
   "outputs": [],
   "source": [
    "model.compile(loss = 'categorical_crossentropy',\n",
    "              optimizer = 'adam',\n",
    "              metrics = ['accuracy'])"
   ]
  },
  {
   "cell_type": "markdown",
   "id": "level-video",
   "metadata": {},
   "source": [
    "### 2.1.3 Model Fit"
   ]
  },
  {
   "cell_type": "code",
   "execution_count": 9,
   "id": "impossible-junior",
   "metadata": {},
   "outputs": [
    {
     "name": "stdout",
     "output_type": "stream",
     "text": [
      "Epoch 1/10\n",
      "38/38 [==============================] - 199s 5s/step - loss: 1.7159 - accuracy: 0.3456 - val_loss: 1.2610 - val_accuracy: 0.4000\n",
      "Epoch 2/10\n",
      "38/38 [==============================] - 301s 8s/step - loss: 1.2417 - accuracy: 0.4107 - val_loss: 1.2731 - val_accuracy: 0.4200\n",
      "Epoch 3/10\n",
      "38/38 [==============================] - 358s 9s/step - loss: 1.1484 - accuracy: 0.4863 - val_loss: 1.2201 - val_accuracy: 0.4400\n",
      "Epoch 4/10\n",
      "38/38 [==============================] - 244s 6s/step - loss: 0.8614 - accuracy: 0.6594 - val_loss: 1.4575 - val_accuracy: 0.4700\n",
      "Epoch 5/10\n",
      "38/38 [==============================] - 196s 5s/step - loss: 0.5245 - accuracy: 0.8061 - val_loss: 1.4504 - val_accuracy: 0.4500\n",
      "Epoch 6/10\n",
      "38/38 [==============================] - 195s 5s/step - loss: 0.4302 - accuracy: 0.8436 - val_loss: 1.8453 - val_accuracy: 0.4500\n",
      "Epoch 7/10\n",
      "38/38 [==============================] - 196s 5s/step - loss: 0.2202 - accuracy: 0.9198 - val_loss: 2.2253 - val_accuracy: 0.5000\n",
      "Epoch 8/10\n",
      "38/38 [==============================] - 197s 5s/step - loss: 0.1447 - accuracy: 0.9613 - val_loss: 2.1324 - val_accuracy: 0.4700\n",
      "Epoch 9/10\n",
      "38/38 [==============================] - 196s 5s/step - loss: 0.0887 - accuracy: 0.9845 - val_loss: 2.8644 - val_accuracy: 0.4600\n",
      "Epoch 10/10\n",
      "38/38 [==============================] - 196s 5s/step - loss: 0.0363 - accuracy: 0.9878 - val_loss: 2.8121 - val_accuracy: 0.4800\n",
      "CPU times: user 5h 49min 24s, sys: 1h 10min 4s, total: 6h 59min 29s\n",
      "Wall time: 38min 1s\n"
     ]
    }
   ],
   "source": [
    "%%time\n",
    "\n",
    "History = model.fit(X_train, y_train,\n",
    "                   epochs = epochs,\n",
    "                   batch_size = batch_size,\n",
    "                   validation_data = (X_val, y_val))"
   ]
  },
  {
   "cell_type": "markdown",
   "id": "contained-metallic",
   "metadata": {},
   "source": [
    "### 2.1.4 Fitted Model Visualization"
   ]
  },
  {
   "cell_type": "code",
   "execution_count": 10,
   "id": "recovered-large",
   "metadata": {},
   "outputs": [
    {
     "data": {
      "image/png": "[encoded data removed]",
      "text/plain": [
       "<Figure size 648x432 with 1 Axes>"
      ]
     },
     "metadata": {
      "needs_background": "light"
     },
     "output_type": "display_data"
    }
   ],
   "source": [
    "import matplotlib.pyplot as plt\n",
    "\n",
    "epochs = range(1, len(History.history['loss']) + 1)\n",
    "\n",
    "plt.figure(figsize = (9, 6))\n",
    "plt.plot(epochs, History.history['loss'])\n",
    "plt.plot(epochs, History.history['val_loss'])\n",
    "\n",
    "plt.title('Training & Validation Loss')\n",
    "plt.xlabel('Epochs')\n",
    "plt.ylabel('Loss')\n",
    "plt.legend(['Training Loss', 'Validation Loss'])\n",
    "plt.grid()\n",
    "plt.show()"
   ]
  },
  {
   "cell_type": "code",
   "execution_count": 11,
   "id": "flexible-hands",
   "metadata": {},
   "outputs": [
    {
     "data": {
      "image/png": "[encoded data removed]",
      "text/plain": [
       "<Figure size 648x432 with 1 Axes>"
      ]
     },
     "metadata": {
      "needs_background": "light"
     },
     "output_type": "display_data"
    }
   ],
   "source": [
    "import matplotlib.pyplot as plt\n",
    "\n",
    "epochs = range(1, len(History.history['loss']) + 1)\n",
    "\n",
    "plt.figure(figsize = (9, 6))\n",
    "plt.plot(epochs, History.history['accuracy'])\n",
    "plt.plot(epochs, History.history['val_accuracy'])\n",
    "\n",
    "plt.title('Training & Validation Loss')\n",
    "plt.xlabel('Epochs')\n",
    "plt.ylabel('Accuracy')\n",
    "plt.legend(['Training Accuracy', 'Validation Accuracy'])\n",
    "plt.grid()\n",
    "plt.show()"
   ]
  },
  {
   "cell_type": "markdown",
   "id": "painful-crown",
   "metadata": {},
   "source": [
    "### 2.1.5 Model Evaluate"
   ]
  },
  {
   "cell_type": "code",
   "execution_count": 12,
   "id": "classical-assistant",
   "metadata": {
    "scrolled": true
   },
   "outputs": [
    {
     "name": "stdout",
     "output_type": "stream",
     "text": [
      "13/13 [==============================] - 12s 885ms/step - loss: 2.5496 - accuracy: 0.4500\n",
      "Loss = 2.54959\n",
      "Accuracy = 0.45000\n"
     ]
    }
   ],
   "source": [
    "loss, accuracy = model.evaluate(X_test, y_test,\n",
    "                                batch_size = batch_size)\n",
    "\n",
    "print('Loss = {:.5f}'.format(loss))\n",
    "print('Accuracy = {:.5f}'.format(accuracy))"
   ]
  },
  {
   "cell_type": "markdown",
   "id": "wicked-tender",
   "metadata": {},
   "source": [
    "### 2.1.6 Model Save"
   ]
  },
  {
   "cell_type": "code",
   "execution_count": 13,
   "id": "informational-tower",
   "metadata": {},
   "outputs": [],
   "source": [
    "save_dir = 'Models'\n",
    "\n",
    "if not os.path.exists(save_dir):\n",
    "    os.makedirs(save_dir)\n",
    "\n",
    "final_model_name = '/' + scale + '_' + model_name + '.h5'\n",
    "\n",
    "model.save(save_dir + final_model_name)"
   ]
  },
  {
   "cell_type": "markdown",
   "id": "stylish-birmingham",
   "metadata": {},
   "source": [
    "### 2.1.7 Saved Model Test"
   ]
  },
  {
   "cell_type": "code",
   "execution_count": 14,
   "id": "tribal-belgium",
   "metadata": {},
   "outputs": [
    {
     "name": "stdout",
     "output_type": "stream",
     "text": [
      "13/13 [==============================] - 12s 881ms/step - loss: 2.5496 - accuracy: 0.4500\n",
      "Loss = 2.54959\n",
      "Accuracy = 0.45000\n"
     ]
    }
   ],
   "source": [
    "from keras.models import load_model\n",
    "\n",
    "rgb_cnn_lstm = load_model(save_dir + final_model_name)\n",
    "\n",
    "loss, accuracy = rgb_cnn_lstm.evaluate(X_test, y_test,\n",
    "                                batch_size = batch_size)\n",
    "\n",
    "print('Loss = {:.5f}'.format(loss))\n",
    "print('Accuracy = {:.5f}'.format(accuracy))"
   ]
  }
 ],
 "metadata": {
  "kernelspec": {
   "display_name": "Python 3",
   "language": "python",
   "name": "python3"
  },
  "language_info": {
   "codemirror_mode": {
    "name": "ipython",
    "version": 3
   },
   "file_extension": ".py",
   "mimetype": "text/x-python",
   "name": "python",
   "nbconvert_exporter": "python",
   "pygments_lexer": "ipython3",
   "version": "3.6.9"
  }
 },
 "nbformat": 4,
 "nbformat_minor": 5
}
