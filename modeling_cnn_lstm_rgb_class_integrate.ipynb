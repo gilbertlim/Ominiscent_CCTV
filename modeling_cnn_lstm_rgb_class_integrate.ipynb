{
 "cells": [
  {
   "cell_type": "markdown",
   "id": "cellular-cleveland",
   "metadata": {},
   "source": [
    "# 2. Modeling"
   ]
  },
  {
   "cell_type": "markdown",
   "id": "boxed-citizen",
   "metadata": {},
   "source": [
    "### 2.0 Load Train, Val, Test (Numpy Array)\n",
    "\n",
    "- Gray Scale : Data_gray 폴더 안에 .npy 파일이 있으면 된다.\n",
    "- RGB Scale : Data 폴더 안에 .npy 파일이 있으면 된다."
   ]
  },
  {
   "cell_type": "markdown",
   "id": "frozen-brazilian",
   "metadata": {},
   "source": [
    "#### Scale 설정\n",
    "- scale = 'gray'\n",
    "- scale = 'rgb'"
   ]
  },
  {
   "cell_type": "code",
   "execution_count": 1,
   "id": "narrow-rescue",
   "metadata": {},
   "outputs": [],
   "source": [
    "scale = 'rgb'\n",
    "data_dir = 'Data_class_integrate_4'\n",
    "channel = 3"
   ]
  },
  {
   "cell_type": "code",
   "execution_count": 2,
   "id": "neural-assurance",
   "metadata": {},
   "outputs": [
    {
     "name": "stdout",
     "output_type": "stream",
     "text": [
      "X_test.npy  X_train.npy  X_val.npy  y_test.npy\ty_train.npy  y_val.npy\r\n"
     ]
    }
   ],
   "source": [
    "!ls {data_dir}"
   ]
  },
  {
   "cell_type": "markdown",
   "id": "plastic-prairie",
   "metadata": {},
   "source": [
    "#### Load Data"
   ]
  },
  {
   "cell_type": "code",
   "execution_count": 3,
   "id": "located-burner",
   "metadata": {},
   "outputs": [
    {
     "name": "stdout",
     "output_type": "stream",
     "text": [
      "(300, 64, 128, 128, 3) (300, 4)\n",
      "(100, 64, 128, 128, 3) (100, 4)\n",
      "(100, 64, 128, 128, 3) (100, 4)\n"
     ]
    }
   ],
   "source": [
    "import os\n",
    "import numpy as np\n",
    "\n",
    "if os.path.exists(data_dir):\n",
    "    X_train = np.load(data_dir + '/X_train.npy')\n",
    "    y_train = np.load(data_dir + '/y_train.npy')\n",
    "    X_val = np.load(data_dir + '/X_val.npy')\n",
    "    y_val = np.load(data_dir + '/y_val.npy')\n",
    "    X_test = np.load(data_dir + '/X_test.npy')\n",
    "    y_test = np.load(data_dir + '/y_test.npy')\n",
    "\n",
    "    print(X_train.shape, y_train.shape)\n",
    "    print(X_val.shape, y_val.shape)\n",
    "    print(X_test.shape, y_test.shape)"
   ]
  },
  {
   "cell_type": "markdown",
   "id": "human-skirt",
   "metadata": {},
   "source": [
    "### 2.1 CNN + LSTM"
   ]
  },
  {
   "cell_type": "markdown",
   "id": "introductory-formula",
   "metadata": {},
   "source": [
    "#### 모델 이름 설정"
   ]
  },
  {
   "cell_type": "code",
   "execution_count": 10,
   "id": "intimate-juvenile",
   "metadata": {},
   "outputs": [],
   "source": [
    "model_name = 'cnn_lstm_class_integrate'"
   ]
  },
  {
   "cell_type": "markdown",
   "id": "invisible-database",
   "metadata": {},
   "source": [
    "#### Parameters"
   ]
  },
  {
   "cell_type": "code",
   "execution_count": 11,
   "id": "static-measurement",
   "metadata": {},
   "outputs": [],
   "source": [
    "epochs = 10\n",
    "batch_size = 2"
   ]
  },
  {
   "cell_type": "markdown",
   "id": "optional-start",
   "metadata": {},
   "source": [
    "### 2.1.1 Model Define"
   ]
  },
  {
   "cell_type": "code",
   "execution_count": 12,
   "id": "incorporate-agent",
   "metadata": {
    "scrolled": true
   },
   "outputs": [
    {
     "name": "stdout",
     "output_type": "stream",
     "text": [
      "Model: \"sequential_1\"\n",
      "_________________________________________________________________\n",
      "Layer (type)                 Output Shape              Param #   \n",
      "=================================================================\n",
      "time_distributed_7 (TimeDist (None, 64, 126, 126, 32)  896       \n",
      "_________________________________________________________________\n",
      "time_distributed_8 (TimeDist (None, 64, 63, 63, 32)    0         \n",
      "_________________________________________________________________\n",
      "time_distributed_9 (TimeDist (None, 64, 61, 61, 64)    18496     \n",
      "_________________________________________________________________\n",
      "time_distributed_10 (TimeDis (None, 64, 30, 30, 64)    0         \n",
      "_________________________________________________________________\n",
      "time_distributed_11 (TimeDis (None, 64, 28, 28, 128)   73856     \n",
      "_________________________________________________________________\n",
      "time_distributed_12 (TimeDis (None, 64, 14, 14, 128)   0         \n",
      "_________________________________________________________________\n",
      "time_distributed_13 (TimeDis (None, 64, 25088)         0         \n",
      "_________________________________________________________________\n",
      "lstm_1 (LSTM)                (None, 256)               25953280  \n",
      "_________________________________________________________________\n",
      "dense_1 (Dense)              (None, 4)                 1028      \n",
      "=================================================================\n",
      "Total params: 26,047,556\n",
      "Trainable params: 26,047,556\n",
      "Non-trainable params: 0\n",
      "_________________________________________________________________\n"
     ]
    }
   ],
   "source": [
    "from keras.layers import TimeDistributed, Conv2D, MaxPooling2D, Flatten, LSTM, Dense\n",
    "from keras.models import Sequential\n",
    "\n",
    "model = Sequential()\n",
    "model.add(TimeDistributed(Conv2D(32, (3, 3), activation = 'relu'), input_shape = (64, 128, 128, channel)))\n",
    "model.add(TimeDistributed(MaxPooling2D((2, 2))))\n",
    "\n",
    "model.add(TimeDistributed(Conv2D(64, (3, 3), activation = 'relu')))\n",
    "model.add(TimeDistributed(MaxPooling2D((2, 2))))\n",
    "\n",
    "model.add(TimeDistributed(Conv2D(128, (3, 3), activation = 'relu')))\n",
    "model.add(TimeDistributed(MaxPooling2D((2, 2))))\n",
    "\n",
    "model.add(TimeDistributed(Flatten()))\n",
    "\n",
    "model.add(LSTM(256))    \n",
    "model.add(Dense(4, activation = 'softmax'))\n",
    "\n",
    "model.summary()"
   ]
  },
  {
   "cell_type": "markdown",
   "id": "inclusive-europe",
   "metadata": {},
   "source": [
    "### 2.1.2 Model Compile"
   ]
  },
  {
   "cell_type": "code",
   "execution_count": 13,
   "id": "extra-bride",
   "metadata": {},
   "outputs": [],
   "source": [
    "model.compile(loss = 'categorical_crossentropy',\n",
    "              optimizer = 'adam',\n",
    "              metrics = ['accuracy'])"
   ]
  },
  {
   "cell_type": "markdown",
   "id": "level-video",
   "metadata": {},
   "source": [
    "### 2.1.3 Model Fit"
   ]
  },
  {
   "cell_type": "code",
   "execution_count": null,
   "id": "impossible-junior",
   "metadata": {},
   "outputs": [
    {
     "name": "stdout",
     "output_type": "stream",
     "text": [
      "Epoch 1/10\n",
      "150/150 [==============================] - 541s 4s/step - loss: 1.8715 - accuracy: 0.2739 - val_loss: 1.3594 - val_accuracy: 0.2900\n",
      "Epoch 2/10\n",
      "150/150 [==============================] - 539s 4s/step - loss: 1.4048 - accuracy: 0.3457 - val_loss: 1.4069 - val_accuracy: 0.2900\n",
      "Epoch 3/10\n",
      "150/150 [==============================] - 540s 4s/step - loss: 1.3859 - accuracy: 0.2841 - val_loss: 1.3727 - val_accuracy: 0.3000\n",
      "Epoch 4/10\n",
      "150/150 [==============================] - 541s 4s/step - loss: 1.3977 - accuracy: 0.3099 - val_loss: 1.3725 - val_accuracy: 0.2900\n",
      "Epoch 5/10\n",
      "150/150 [==============================] - 560s 4s/step - loss: 1.3964 - accuracy: 0.3028 - val_loss: 1.4284 - val_accuracy: 0.3100\n",
      "Epoch 6/10\n",
      "150/150 [==============================] - 604s 4s/step - loss: 1.3992 - accuracy: 0.3030 - val_loss: 1.3747 - val_accuracy: 0.3000\n",
      "Epoch 7/10\n",
      "150/150 [==============================] - 765s 5s/step - loss: 1.4182 - accuracy: 0.2333 - val_loss: 1.3918 - val_accuracy: 0.3100\n",
      "Epoch 8/10\n",
      "150/150 [==============================] - 669s 4s/step - loss: 1.4005 - accuracy: 0.3204 - val_loss: 1.3774 - val_accuracy: 0.3100\n",
      "Epoch 9/10\n",
      "150/150 [==============================] - 862s 6s/step - loss: 1.3826 - accuracy: 0.3577 - val_loss: 1.3780 - val_accuracy: 0.3400\n",
      "Epoch 10/10\n",
      "111/150 [=====================>........] - ETA: 4:19 - loss: 1.3924 - accuracy: 0.2656"
     ]
    }
   ],
   "source": [
    "%%time\n",
    "\n",
    "History = model.fit(X_train, y_train,\n",
    "                   epochs = epochs,\n",
    "                   batch_size = batch_size,\n",
    "                   validation_data = (X_val, y_val))"
   ]
  },
  {
   "cell_type": "markdown",
   "id": "contained-metallic",
   "metadata": {},
   "source": [
    "### 2.1.4 Fitted Model Visualization"
   ]
  },
  {
   "cell_type": "code",
   "execution_count": null,
   "id": "recovered-large",
   "metadata": {},
   "outputs": [],
   "source": [
    "import matplotlib.pyplot as plt\n",
    "\n",
    "epochs = range(1, len(History.history['loss']) + 1)\n",
    "\n",
    "plt.figure(figsize = (9, 6))\n",
    "plt.plot(epochs, History.history['loss'])\n",
    "plt.plot(epochs, History.history['val_loss'])\n",
    "\n",
    "plt.title('Training & Validation Loss')\n",
    "plt.xlabel('Epochs')\n",
    "plt.ylabel('Loss')\n",
    "plt.legend(['Training Loss', 'Validation Loss'])\n",
    "plt.grid()\n",
    "plt.show()"
   ]
  },
  {
   "cell_type": "code",
   "execution_count": null,
   "id": "flexible-hands",
   "metadata": {},
   "outputs": [],
   "source": [
    "import matplotlib.pyplot as plt\n",
    "\n",
    "epochs = range(1, len(History.history['loss']) + 1)\n",
    "\n",
    "plt.figure(figsize = (9, 6))\n",
    "plt.plot(epochs, History.history['accuracy'])\n",
    "plt.plot(epochs, History.history['val_accuracy'])\n",
    "\n",
    "plt.title('Training & Validation Loss')\n",
    "plt.xlabel('Epochs')\n",
    "plt.ylabel('Accuracy')\n",
    "plt.legend(['Training Accuracy', 'Validation Accuracy'])\n",
    "plt.grid()\n",
    "plt.show()"
   ]
  },
  {
   "cell_type": "markdown",
   "id": "painful-crown",
   "metadata": {},
   "source": [
    "### 2.1.5 Model Evaluate"
   ]
  },
  {
   "cell_type": "code",
   "execution_count": null,
   "id": "classical-assistant",
   "metadata": {
    "scrolled": true
   },
   "outputs": [],
   "source": [
    "loss, accuracy = model.evaluate(X_test, y_test,\n",
    "                                batch_size = batch_size)\n",
    "\n",
    "print('Loss = {:.5f}'.format(loss))\n",
    "print('Accuracy = {:.5f}'.format(accuracy))"
   ]
  },
  {
   "cell_type": "markdown",
   "id": "wicked-tender",
   "metadata": {},
   "source": [
    "### 2.1.6 Model Save"
   ]
  },
  {
   "cell_type": "code",
   "execution_count": null,
   "id": "informational-tower",
   "metadata": {},
   "outputs": [],
   "source": [
    "save_dir = 'Models'\n",
    "\n",
    "if not os.path.exists(save_dir):\n",
    "    os.makedirs(save_dir)\n",
    "\n",
    "final_model_name = '/' + scale + '_' + model_name + '.h5'\n",
    "\n",
    "model.save(save_dir + final_model_name)"
   ]
  },
  {
   "cell_type": "markdown",
   "id": "stylish-birmingham",
   "metadata": {},
   "source": [
    "### 2.1.7 Saved Model Test"
   ]
  },
  {
   "cell_type": "code",
   "execution_count": null,
   "id": "tribal-belgium",
   "metadata": {},
   "outputs": [],
   "source": [
    "from keras.models import load_model\n",
    "\n",
    "rgb_cnn_lstm = load_model(save_dir + final_model_name)\n",
    "\n",
    "loss, accuracy = rgb_cnn_lstm.evaluate(X_test, y_test,\n",
    "                                batch_size = batch_size)\n",
    "\n",
    "print('Loss = {:.5f}'.format(loss))\n",
    "print('Accuracy = {:.5f}'.format(accuracy))"
   ]
  }
 ],
 "metadata": {
  "kernelspec": {
   "display_name": "Python 3",
   "language": "python",
   "name": "python3"
  },
  "language_info": {
   "codemirror_mode": {
    "name": "ipython",
    "version": 3
   },
   "file_extension": ".py",
   "mimetype": "text/x-python",
   "name": "python",
   "nbconvert_exporter": "python",
   "pygments_lexer": "ipython3",
   "version": "3.6.9"
  }
 },
 "nbformat": 4,
 "nbformat_minor": 5
}
