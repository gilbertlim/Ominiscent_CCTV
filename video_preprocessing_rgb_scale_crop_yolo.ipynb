{
 "cells": [
  {
   "cell_type": "markdown",
   "id": "numerical-plastic",
   "metadata": {},
   "source": [
    "# Image Crop"
   ]
  },
  {
   "cell_type": "code",
   "execution_count": 2,
   "id": "cathedral-prior",
   "metadata": {},
   "outputs": [
    {
     "name": "stdout",
     "output_type": "stream",
     "text": [
      "Cloning into 'tensorflow-yolov4-tflite'...\n",
      "remote: Enumerating objects: 709, done.\u001b[K\n",
      "remote: Total 709 (delta 0), reused 0 (delta 0), pack-reused 709\u001b[K\n",
      "Receiving objects: 100% (709/709), 176.13 MiB | 21.94 MiB/s, done.\n",
      "Resolving deltas: 100% (331/331), done.\n"
     ]
    }
   ],
   "source": [
    "git clone https://github.com/kairess/tensorflow-yolov4-tflite.git"
   ]
  },
  {
   "cell_type": "code",
   "execution_count": 2,
   "id": "settled-drunk",
   "metadata": {
    "scrolled": true
   },
   "outputs": [
    {
     "data": {
      "text/plain": [
       "'2.4.1'"
      ]
     },
     "execution_count": 2,
     "metadata": {},
     "output_type": "execute_result"
    }
   ],
   "source": [
    "import tensorflow\n",
    "tensorflow.__version__"
   ]
  },
  {
   "cell_type": "code",
   "execution_count": 2,
   "id": "consistent-harbor",
   "metadata": {
    "scrolled": true
   },
   "outputs": [
    {
     "name": "stdout",
     "output_type": "stream",
     "text": [
      "/home/lab18/ipynb/tensorflow-yolov4-tflite\n"
     ]
    }
   ],
   "source": [
    "cd ./tensorflow-yolov4-tflite"
   ]
  },
  {
   "cell_type": "code",
   "execution_count": 7,
   "id": "radio-container",
   "metadata": {
    "scrolled": true
   },
   "outputs": [
    {
     "name": "stdout",
     "output_type": "stream",
     "text": [
      "2021-04-13 17:29:57.311813: W tensorflow/stream_executor/platform/default/dso_loader.cc:55] Could not load dynamic library 'libnvinfer.so.6'; dlerror: libnvinfer.so.6: cannot open shared object file: No such file or directory; LD_LIBRARY_PATH: /usr/lib64/openmpi/lib/:/usr/local/cuda/lib64:/usr/local/lib:/usr/lib:/usr/local/cuda/extras/CUPTI/lib64:/usr/local/mpi/lib:/lib/:\n",
      "2021-04-13 17:29:57.311946: W tensorflow/stream_executor/platform/default/dso_loader.cc:55] Could not load dynamic library 'libnvinfer_plugin.so.6'; dlerror: libnvinfer_plugin.so.6: cannot open shared object file: No such file or directory; LD_LIBRARY_PATH: /usr/lib64/openmpi/lib/:/usr/local/cuda/lib64:/usr/local/lib:/usr/lib:/usr/local/cuda/extras/CUPTI/lib64:/usr/local/mpi/lib:/lib/:\n",
      "2021-04-13 17:29:57.311972: W tensorflow/compiler/tf2tensorrt/utils/py_utils.cc:30] Cannot dlopen some TensorRT libraries. If you would like to use Nvidia GPU with TensorRT, please make sure the missing libraries mentioned above are installed properly.\n",
      "Traceback (most recent call last):\n",
      "  File \"save_model.py\", line 4, in <module>\n",
      "    from core.yolov4 import YOLO, decode, filter_boxes\n",
      "ImportError: No module named core.yolov4\n"
     ]
    }
   ],
   "source": [
    "!python save_model.py --weights ./data/yolov4.weights --output ./checkpoints/yolov4-416 --input_size 416 --model yolov4"
   ]
  },
  {
   "cell_type": "code",
   "execution_count": 5,
   "id": "charming-mission",
   "metadata": {},
   "outputs": [
    {
     "name": "stdout",
     "output_type": "stream",
     "text": [
      "CODE_OF_CONDUCT.md  convert_trt.py\t    detectvideo.py\t  result.png\r\n",
      "LICENSE\t\t    core\t\t    evaluate.py\t\t  save_model.py\r\n",
      "README.md\t    data\t\t    mAP\t\t\t  scripts\r\n",
      "android\t\t    detect.py\t\t    requirements-gpu.txt  train.py\r\n",
      "benchmarks.py\t    detect_simple.py\t    requirements.txt\r\n",
      "convert_tflite.py   detect_video_simple.py  result-int8.png\r\n"
     ]
    }
   ],
   "source": [
    "!ls "
   ]
  },
  {
   "cell_type": "code",
   "execution_count": null,
   "id": "collect-month",
   "metadata": {},
   "outputs": [],
   "source": []
  },
  {
   "cell_type": "code",
   "execution_count": 3,
   "id": "elect-lodge",
   "metadata": {},
   "outputs": [
    {
     "name": "stdout",
     "output_type": "stream",
     "text": [
      "[sudo] password for lab18: \n"
     ]
    }
   ],
   "source": [
    "!sudo ls"
   ]
  },
  {
   "cell_type": "code",
   "execution_count": null,
   "id": "interior-transcript",
   "metadata": {},
   "outputs": [],
   "source": []
  },
  {
   "cell_type": "code",
   "execution_count": null,
   "id": "metallic-religious",
   "metadata": {},
   "outputs": [],
   "source": []
  },
  {
   "cell_type": "code",
   "execution_count": null,
   "id": "european-lexington",
   "metadata": {},
   "outputs": [],
   "source": []
  },
  {
   "cell_type": "code",
   "execution_count": null,
   "id": "foster-florida",
   "metadata": {},
   "outputs": [],
   "source": []
  },
  {
   "cell_type": "code",
   "execution_count": null,
   "id": "driving-intro",
   "metadata": {},
   "outputs": [],
   "source": []
  },
  {
   "cell_type": "code",
   "execution_count": null,
   "id": "attended-proportion",
   "metadata": {},
   "outputs": [],
   "source": []
  },
  {
   "cell_type": "code",
   "execution_count": null,
   "id": "public-squad",
   "metadata": {},
   "outputs": [],
   "source": []
  },
  {
   "cell_type": "code",
   "execution_count": null,
   "id": "armed-singapore",
   "metadata": {},
   "outputs": [],
   "source": []
  }
 ],
 "metadata": {
  "kernelspec": {
   "display_name": "Python 3",
   "language": "python",
   "name": "python3"
  },
  "language_info": {
   "codemirror_mode": {
    "name": "ipython",
    "version": 3
   },
   "file_extension": ".py",
   "mimetype": "text/x-python",
   "name": "python",
   "nbconvert_exporter": "python",
   "pygments_lexer": "ipython3",
   "version": "3.6.9"
  }
 },
 "nbformat": 4,
 "nbformat_minor": 5
}
