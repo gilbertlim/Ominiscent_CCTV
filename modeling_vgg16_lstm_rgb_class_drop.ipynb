{
 "cells": [
  {
   "cell_type": "markdown",
   "id": "cellular-cleveland",
   "metadata": {},
   "source": [
    "# 2. Modeling"
   ]
  },
  {
   "cell_type": "markdown",
   "id": "boxed-citizen",
   "metadata": {},
   "source": [
    "### 2.0 Load Train, Val, Test (Numpy Array)\n",
    "\n",
    "- Gray Scale : Data_gray 폴더 안에 .npy 파일이 있으면 된다.\n",
    "- RGB Scale : Data 폴더 안에 .npy 파일이 있으면 된다."
   ]
  },
  {
   "cell_type": "markdown",
   "id": "frozen-brazilian",
   "metadata": {},
   "source": [
    "#### Scale 설정\n",
    "- scale = 'gray'\n",
    "- scale = 'rgb'"
   ]
  },
  {
   "cell_type": "code",
   "execution_count": 12,
   "id": "narrow-rescue",
   "metadata": {},
   "outputs": [],
   "source": [
    "scale = 'rgb'\n",
    "data_dir = 'Data_class_drop_4'\n",
    "channel = 3"
   ]
  },
  {
   "cell_type": "code",
   "execution_count": 13,
   "id": "neural-assurance",
   "metadata": {},
   "outputs": [
    {
     "name": "stdout",
     "output_type": "stream",
     "text": [
      "X_test.npy  X_train.npy  X_val.npy  y_test.npy\ty_train.npy  y_val.npy\r\n"
     ]
    }
   ],
   "source": [
    "!ls {data_dir}"
   ]
  },
  {
   "cell_type": "markdown",
   "id": "plastic-prairie",
   "metadata": {},
   "source": [
    "#### Load Data"
   ]
  },
  {
   "cell_type": "code",
   "execution_count": 14,
   "id": "located-burner",
   "metadata": {},
   "outputs": [
    {
     "name": "stdout",
     "output_type": "stream",
     "text": [
      "(210, 64, 128, 128, 3) (210, 4)\n",
      "(70, 64, 128, 128, 3) (70, 4)\n",
      "(70, 64, 128, 128, 3) (70, 4)\n"
     ]
    }
   ],
   "source": [
    "import os\n",
    "import numpy as np\n",
    "\n",
    "if os.path.exists(data_dir):\n",
    "    X_train = np.load(data_dir + '/X_train.npy')\n",
    "    y_train = np.load(data_dir + '/y_train.npy')\n",
    "    X_val = np.load(data_dir + '/X_val.npy')\n",
    "    y_val = np.load(data_dir + '/y_val.npy')\n",
    "    X_test = np.load(data_dir + '/X_test.npy')\n",
    "    y_test = np.load(data_dir + '/y_test.npy')\n",
    "\n",
    "    print(X_train.shape, y_train.shape)\n",
    "    print(X_val.shape, y_val.shape)\n",
    "    print(X_test.shape, y_test.shape)"
   ]
  },
  {
   "cell_type": "markdown",
   "id": "human-skirt",
   "metadata": {},
   "source": [
    "### 2.1 VGG16 + LSTM"
   ]
  },
  {
   "cell_type": "markdown",
   "id": "introductory-formula",
   "metadata": {},
   "source": [
    "#### 모델 이름 설정"
   ]
  },
  {
   "cell_type": "code",
   "execution_count": 15,
   "id": "intimate-juvenile",
   "metadata": {},
   "outputs": [],
   "source": [
    "model_name = 'vgg16_lstm_class_drop'"
   ]
  },
  {
   "cell_type": "markdown",
   "id": "invisible-database",
   "metadata": {},
   "source": [
    "#### Parameters"
   ]
  },
  {
   "cell_type": "code",
   "execution_count": 16,
   "id": "static-measurement",
   "metadata": {},
   "outputs": [],
   "source": [
    "epochs = 10\n",
    "batch_size = 2"
   ]
  },
  {
   "cell_type": "markdown",
   "id": "optional-start",
   "metadata": {},
   "source": [
    "### 2.1.1 Model Define"
   ]
  },
  {
   "cell_type": "code",
   "execution_count": 17,
   "id": "breathing-haven",
   "metadata": {},
   "outputs": [],
   "source": [
    "frames = 64\n",
    "width = 128\n",
    "height = 128\n",
    "\n",
    "classes = 4"
   ]
  },
  {
   "cell_type": "code",
   "execution_count": 18,
   "id": "damaged-drunk",
   "metadata": {},
   "outputs": [
    {
     "name": "stdout",
     "output_type": "stream",
     "text": [
      "Model: \"model_3\"\n",
      "_________________________________________________________________\n",
      "Layer (type)                 Output Shape              Param #   \n",
      "=================================================================\n",
      "input_3 (InputLayer)         [(None, 64, 128, 128, 3)] 0         \n",
      "_________________________________________________________________\n",
      "time_distributed_1 (TimeDist (None, 64, 512)           14714688  \n",
      "_________________________________________________________________\n",
      "lstm_1 (LSTM)                (None, 256)               787456    \n",
      "_________________________________________________________________\n",
      "dense_2 (Dense)              (None, 1024)              263168    \n",
      "_________________________________________________________________\n",
      "dense_3 (Dense)              (None, 4)                 4100      \n",
      "=================================================================\n",
      "Total params: 15,769,412\n",
      "Trainable params: 1,054,724\n",
      "Non-trainable params: 14,714,688\n",
      "_________________________________________________________________\n"
     ]
    }
   ],
   "source": [
    "from keras.applications.vgg16 import VGG16\n",
    "from keras.models import Model\n",
    "from keras.layers import Dense, Input\n",
    "from keras.layers.pooling import GlobalAveragePooling2D\n",
    "from keras.layers.recurrent import LSTM\n",
    "from keras.layers.wrappers import TimeDistributed\n",
    "from keras.optimizers import Nadam\n",
    "\n",
    "video = Input(shape=(frames,\n",
    "                     width,\n",
    "                     height,\n",
    "                     channel))\n",
    "\n",
    "cnn_base = VGG16(input_shape=(width,\n",
    "                              height,\n",
    "                              channel),\n",
    "                 weights=\"imagenet\",\n",
    "                 include_top=False)\n",
    "cnn_out = GlobalAveragePooling2D()(cnn_base.output)\n",
    "\n",
    "cnn = Model(inputs=cnn_base.input, outputs=cnn_out)\n",
    "cnn.trainable = False\n",
    "\n",
    "encoded_frames = TimeDistributed(cnn)(video)\n",
    "encoded_sequence = LSTM(256)(encoded_frames)\n",
    "\n",
    "hidden_layer = Dense(units=1024, activation=\"relu\")(encoded_sequence)\n",
    "\n",
    "outputs = Dense(units=classes, activation=\"softmax\")(hidden_layer)\n",
    "\n",
    "model = Model(inputs=[video], outputs=outputs)\n",
    "\n",
    "model.summary()"
   ]
  },
  {
   "cell_type": "markdown",
   "id": "inclusive-europe",
   "metadata": {},
   "source": [
    "### 2.1.2 Model Compile"
   ]
  },
  {
   "cell_type": "code",
   "execution_count": 19,
   "id": "extra-bride",
   "metadata": {},
   "outputs": [],
   "source": [
    "model.compile(loss = 'categorical_crossentropy',\n",
    "              optimizer = 'adam',\n",
    "              metrics = ['accuracy'])"
   ]
  },
  {
   "cell_type": "markdown",
   "id": "level-video",
   "metadata": {},
   "source": [
    "### 2.1.3 Model Fit"
   ]
  },
  {
   "cell_type": "code",
   "execution_count": 20,
   "id": "impossible-junior",
   "metadata": {},
   "outputs": [
    {
     "name": "stdout",
     "output_type": "stream",
     "text": [
      "Epoch 1/10\n",
      "105/105 [==============================] - 673s 6s/step - loss: 1.3111 - accuracy: 0.4627 - val_loss: 1.0037 - val_accuracy: 0.5286\n",
      "Epoch 2/10\n",
      "105/105 [==============================] - 745s 7s/step - loss: 0.7179 - accuracy: 0.7351 - val_loss: 1.0725 - val_accuracy: 0.6286\n",
      "Epoch 3/10\n",
      "105/105 [==============================] - 750s 7s/step - loss: 0.6393 - accuracy: 0.7274 - val_loss: 1.6545 - val_accuracy: 0.5000\n",
      "Epoch 4/10\n",
      "105/105 [==============================] - 762s 7s/step - loss: 0.4421 - accuracy: 0.8253 - val_loss: 1.4939 - val_accuracy: 0.5286\n",
      "Epoch 5/10\n",
      "105/105 [==============================] - 775s 7s/step - loss: 0.2320 - accuracy: 0.8992 - val_loss: 1.9230 - val_accuracy: 0.5714\n",
      "Epoch 6/10\n",
      "105/105 [==============================] - 780s 7s/step - loss: 0.0998 - accuracy: 0.9590 - val_loss: 2.0499 - val_accuracy: 0.5571\n",
      "Epoch 7/10\n",
      "105/105 [==============================] - 779s 7s/step - loss: 0.1652 - accuracy: 0.9647 - val_loss: 2.2512 - val_accuracy: 0.5857\n",
      "Epoch 8/10\n",
      "105/105 [==============================] - 782s 7s/step - loss: 0.0145 - accuracy: 0.9966 - val_loss: 2.3214 - val_accuracy: 0.5286\n",
      "Epoch 9/10\n",
      "105/105 [==============================] - 780s 7s/step - loss: 0.0162 - accuracy: 1.0000 - val_loss: 2.3745 - val_accuracy: 0.5571\n",
      "Epoch 10/10\n",
      "105/105 [==============================] - 783s 7s/step - loss: 0.0025 - accuracy: 1.0000 - val_loss: 2.4431 - val_accuracy: 0.5571\n",
      "CPU times: user 15h 40min 43s, sys: 45min 39s, total: 16h 26min 22s\n",
      "Wall time: 2h 6min 51s\n"
     ]
    }
   ],
   "source": [
    "%%time\n",
    "\n",
    "History = model.fit(X_train, y_train,\n",
    "                   epochs = epochs,\n",
    "                   batch_size = batch_size,\n",
    "                   validation_data = (X_val, y_val))"
   ]
  },
  {
   "cell_type": "markdown",
   "id": "contained-metallic",
   "metadata": {},
   "source": [
    "### 2.1.4 Fitted Model Visualization"
   ]
  },
  {
   "cell_type": "code",
   "execution_count": 21,
   "id": "recovered-large",
   "metadata": {},
   "outputs": [
    {
     "data": {
      "image/png": "[encoded data removed]",
      "text/plain": [
       "<Figure size 648x432 with 1 Axes>"
      ]
     },
     "metadata": {
      "needs_background": "light"
     },
     "output_type": "display_data"
    }
   ],
   "source": [
    "import matplotlib.pyplot as plt\n",
    "\n",
    "epochs = range(1, len(History.history['loss']) + 1)\n",
    "\n",
    "plt.figure(figsize = (9, 6))\n",
    "plt.plot(epochs, History.history['loss'])\n",
    "plt.plot(epochs, History.history['val_loss'])\n",
    "\n",
    "plt.title('Training & Validation Loss')\n",
    "plt.xlabel('Epochs')\n",
    "plt.ylabel('Loss')\n",
    "plt.legend(['Training Loss', 'Validation Loss'])\n",
    "plt.grid()\n",
    "plt.show()"
   ]
  },
  {
   "cell_type": "code",
   "execution_count": 22,
   "id": "flexible-hands",
   "metadata": {},
   "outputs": [
    {
     "data": {
      "image/png": "[encoded data removed]",
      "text/plain": [
       "<Figure size 648x432 with 1 Axes>"
      ]
     },
     "metadata": {
      "needs_background": "light"
     },
     "output_type": "display_data"
    }
   ],
   "source": [
    "import matplotlib.pyplot as plt\n",
    "\n",
    "epochs = range(1, len(History.history['loss']) + 1)\n",
    "\n",
    "plt.figure(figsize = (9, 6))\n",
    "plt.plot(epochs, History.history['accuracy'])\n",
    "plt.plot(epochs, History.history['val_accuracy'])\n",
    "\n",
    "plt.title('Training & Validation Loss')\n",
    "plt.xlabel('Epochs')\n",
    "plt.ylabel('Accuracy')\n",
    "plt.legend(['Training Accuracy', 'Validation Accuracy'])\n",
    "plt.grid()\n",
    "plt.show()"
   ]
  },
  {
   "cell_type": "markdown",
   "id": "painful-crown",
   "metadata": {},
   "source": [
    "### 2.1.5 Model Evaluate"
   ]
  },
  {
   "cell_type": "code",
   "execution_count": 23,
   "id": "classical-assistant",
   "metadata": {
    "scrolled": true
   },
   "outputs": [
    {
     "name": "stdout",
     "output_type": "stream",
     "text": [
      "35/35 [==============================] - 192s 5s/step - loss: 1.8132 - accuracy: 0.5857\n",
      "Loss = 1.81317\n",
      "Accuracy = 0.58571\n"
     ]
    }
   ],
   "source": [
    "loss, accuracy = model.evaluate(X_test, y_test,\n",
    "                                batch_size = batch_size)\n",
    "\n",
    "print('Loss = {:.5f}'.format(loss))\n",
    "print('Accuracy = {:.5f}'.format(accuracy))"
   ]
  },
  {
   "cell_type": "markdown",
   "id": "wicked-tender",
   "metadata": {},
   "source": [
    "### 2.1.6 Model Save"
   ]
  },
  {
   "cell_type": "code",
   "execution_count": 24,
   "id": "informational-tower",
   "metadata": {},
   "outputs": [],
   "source": [
    "save_dir = 'Models'\n",
    "\n",
    "if not os.path.exists(save_dir):\n",
    "    os.makedirs(save_dir)\n",
    "\n",
    "final_model_name = '/' + scale + '_' + model_name + '.h5'\n",
    "\n",
    "model.save(save_dir + final_model_name)"
   ]
  },
  {
   "cell_type": "markdown",
   "id": "stylish-birmingham",
   "metadata": {},
   "source": [
    "### 2.1.7 Saved Model Test"
   ]
  },
  {
   "cell_type": "code",
   "execution_count": 25,
   "id": "tribal-belgium",
   "metadata": {},
   "outputs": [
    {
     "name": "stdout",
     "output_type": "stream",
     "text": [
      "35/35 [==============================] - 191s 5s/step - loss: 1.8132 - accuracy: 0.5857\n",
      "Loss = 1.81317\n",
      "Accuracy = 0.58571\n"
     ]
    }
   ],
   "source": [
    "from keras.models import load_model\n",
    "\n",
    "rgb_cnn_lstm = load_model(save_dir + final_model_name)\n",
    "\n",
    "loss, accuracy = rgb_cnn_lstm.evaluate(X_test, y_test,\n",
    "                                batch_size = batch_size)\n",
    "\n",
    "print('Loss = {:.5f}'.format(loss))\n",
    "print('Accuracy = {:.5f}'.format(accuracy))"
   ]
  }
 ],
 "metadata": {
  "kernelspec": {
   "display_name": "Python 3",
   "language": "python",
   "name": "python3"
  },
  "language_info": {
   "codemirror_mode": {
    "name": "ipython",
    "version": 3
   },
   "file_extension": ".py",
   "mimetype": "text/x-python",
   "name": "python",
   "nbconvert_exporter": "python",
   "pygments_lexer": "ipython3",
   "version": "3.6.9"
  }
 },
 "nbformat": 4,
 "nbformat_minor": 5
}
