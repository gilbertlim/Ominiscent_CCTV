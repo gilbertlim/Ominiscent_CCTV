{
 "cells": [
  {
   "cell_type": "markdown",
   "id": "cellular-cleveland",
   "metadata": {},
   "source": [
    "# 2. Modeling"
   ]
  },
  {
   "cell_type": "markdown",
   "id": "boxed-citizen",
   "metadata": {},
   "source": [
    "### 2.0 Load Train, Val, Test (Numpy Array)\n",
    "\n",
    "- Gray Scale : Data_gray 폴더 안에 .npy 파일이 있으면 된다.\n",
    "- RGB Scale : Data 폴더 안에 .npy 파일이 있으면 된다."
   ]
  },
  {
   "cell_type": "markdown",
   "id": "frozen-brazilian",
   "metadata": {},
   "source": [
    "#### Scale 설정\n",
    "- scale = 'gray'\n",
    "- scale = 'rgb'"
   ]
  },
  {
   "cell_type": "code",
   "execution_count": 31,
   "id": "narrow-rescue",
   "metadata": {},
   "outputs": [],
   "source": [
    "scale = 'gray'\n",
    "\n",
    "if scale == 'gray':\n",
    "    data_dir = 'Data_gray'\n",
    "    channel = 1\n",
    "    \n",
    "elif scale == 'rgb':\n",
    "    data_dir = 'Data'\n",
    "    channel = 3"
   ]
  },
  {
   "cell_type": "code",
   "execution_count": 32,
   "id": "neural-assurance",
   "metadata": {},
   "outputs": [
    {
     "name": "stdout",
     "output_type": "stream",
     "text": [
      "X_test.npy  X_train.npy  X_val.npy  y_test.npy\ty_train.npy  y_val.npy\r\n"
     ]
    }
   ],
   "source": [
    "!ls {data_dir}"
   ]
  },
  {
   "cell_type": "markdown",
   "id": "plastic-prairie",
   "metadata": {},
   "source": [
    "#### Load Data"
   ]
  },
  {
   "cell_type": "code",
   "execution_count": 33,
   "id": "located-burner",
   "metadata": {},
   "outputs": [
    {
     "name": "stdout",
     "output_type": "stream",
     "text": [
      "(330, 64, 128, 128, 1) (330, 8)\n",
      "(110, 64, 128, 128, 1) (110, 8)\n",
      "(110, 64, 128, 128, 1) (110, 8)\n"
     ]
    }
   ],
   "source": [
    "import os\n",
    "import numpy as np\n",
    "\n",
    "if os.path.exists(data_dir):\n",
    "    X_train = np.load(data_dir + '/X_train.npy')\n",
    "    y_train = np.load(data_dir + '/y_train.npy')\n",
    "    X_val = np.load(data_dir + '/X_val.npy')\n",
    "    y_val = np.load(data_dir + '/y_val.npy')\n",
    "    X_test = np.load(data_dir + '/X_test.npy')\n",
    "    y_test = np.load(data_dir + '/y_test.npy')\n",
    "\n",
    "    print(X_train.shape, y_train.shape)\n",
    "    print(X_val.shape, y_val.shape)\n",
    "    print(X_test.shape, y_test.shape)"
   ]
  },
  {
   "cell_type": "markdown",
   "id": "human-skirt",
   "metadata": {},
   "source": [
    "### 2.1 C3D"
   ]
  },
  {
   "cell_type": "markdown",
   "id": "introductory-formula",
   "metadata": {},
   "source": [
    "#### 모델 이름 설정"
   ]
  },
  {
   "cell_type": "code",
   "execution_count": 41,
   "id": "intimate-juvenile",
   "metadata": {},
   "outputs": [],
   "source": [
    "model_name = 'c3d'"
   ]
  },
  {
   "cell_type": "markdown",
   "id": "invisible-database",
   "metadata": {},
   "source": [
    "#### Parameters"
   ]
  },
  {
   "cell_type": "code",
   "execution_count": 34,
   "id": "static-measurement",
   "metadata": {},
   "outputs": [],
   "source": [
    "epochs = 10\n",
    "batch_size = 2"
   ]
  },
  {
   "cell_type": "markdown",
   "id": "optional-start",
   "metadata": {},
   "source": [
    "### 2.1.1 Model Define"
   ]
  },
  {
   "cell_type": "code",
   "execution_count": 35,
   "id": "incorporate-agent",
   "metadata": {
    "scrolled": true
   },
   "outputs": [
    {
     "name": "stdout",
     "output_type": "stream",
     "text": [
      "Model: \"sequential_1\"\n",
      "_________________________________________________________________\n",
      "Layer (type)                 Output Shape              Param #   \n",
      "=================================================================\n",
      "conv3d_3 (Conv3D)            (None, 62, 126, 126, 32)  896       \n",
      "_________________________________________________________________\n",
      "max_pooling3d_3 (MaxPooling3 (None, 31, 63, 63, 32)    0         \n",
      "_________________________________________________________________\n",
      "conv3d_4 (Conv3D)            (None, 29, 61, 61, 64)    55360     \n",
      "_________________________________________________________________\n",
      "max_pooling3d_4 (MaxPooling3 (None, 14, 30, 30, 64)    0         \n",
      "_________________________________________________________________\n",
      "conv3d_5 (Conv3D)            (None, 12, 28, 28, 128)   221312    \n",
      "_________________________________________________________________\n",
      "max_pooling3d_5 (MaxPooling3 (None, 6, 14, 14, 128)    0         \n",
      "_________________________________________________________________\n",
      "flatten_1 (Flatten)          (None, 150528)            0         \n",
      "_________________________________________________________________\n",
      "dense_2 (Dense)              (None, 512)               77070848  \n",
      "_________________________________________________________________\n",
      "dense_3 (Dense)              (None, 8)                 4104      \n",
      "=================================================================\n",
      "Total params: 77,352,520\n",
      "Trainable params: 77,352,520\n",
      "Non-trainable params: 0\n",
      "_________________________________________________________________\n"
     ]
    }
   ],
   "source": [
    "from keras import layers\n",
    "from keras import models\n",
    "\n",
    "model = models.Sequential()\n",
    "model.add(layers.Conv3D(32, (3, 3, 3), activation = 'relu', input_shape = (64, 128, 128, channel)))\n",
    "model.add(layers.MaxPooling3D((2, 2, 2)))\n",
    "\n",
    "model.add(layers.Conv3D(64, (3, 3, 3), activation = 'relu'))\n",
    "model.add(layers.MaxPooling3D((2, 2, 2)))\n",
    "\n",
    "model.add(layers.Conv3D(128, (3, 3, 3), activation = 'relu'))\n",
    "model.add(layers.MaxPooling3D((2, 2, 2)))\n",
    "\n",
    "model.add(layers.Flatten())\n",
    "model.add(layers.Dense(512, activation = 'relu'))\n",
    "model.add(layers.Dense(8, activation = 'softmax'))\n",
    "\n",
    "model.summary()"
   ]
  },
  {
   "cell_type": "markdown",
   "id": "inclusive-europe",
   "metadata": {},
   "source": [
    "### 2.1.2 Model Compile"
   ]
  },
  {
   "cell_type": "code",
   "execution_count": 36,
   "id": "extra-bride",
   "metadata": {},
   "outputs": [],
   "source": [
    "model.compile(loss = 'categorical_crossentropy',\n",
    "              optimizer = 'adam',\n",
    "              metrics = ['accuracy'])"
   ]
  },
  {
   "cell_type": "markdown",
   "id": "level-video",
   "metadata": {},
   "source": [
    "### 2.1.3 Model Fit"
   ]
  },
  {
   "cell_type": "code",
   "execution_count": 37,
   "id": "impossible-junior",
   "metadata": {},
   "outputs": [
    {
     "name": "stdout",
     "output_type": "stream",
     "text": [
      "Epoch 1/10\n",
      "165/165 [==============================] - 38s 230ms/step - loss: 228.7857 - accuracy: 0.2347 - val_loss: 2.0326 - val_accuracy: 0.2818\n",
      "Epoch 2/10\n",
      "165/165 [==============================] - 37s 226ms/step - loss: 2.0120 - accuracy: 0.2710 - val_loss: 1.9776 - val_accuracy: 0.2818\n",
      "Epoch 3/10\n",
      "165/165 [==============================] - 37s 226ms/step - loss: 2.1824 - accuracy: 0.3338 - val_loss: 2.0227 - val_accuracy: 0.3091\n",
      "Epoch 4/10\n",
      "165/165 [==============================] - 37s 226ms/step - loss: 1.8341 - accuracy: 0.3833 - val_loss: 1.9889 - val_accuracy: 0.2636\n",
      "Epoch 5/10\n",
      "165/165 [==============================] - 37s 227ms/step - loss: 1.8945 - accuracy: 0.3450 - val_loss: 1.9872 - val_accuracy: 0.2636\n",
      "Epoch 6/10\n",
      "165/165 [==============================] - 37s 226ms/step - loss: 1.9956 - accuracy: 0.2808 - val_loss: 1.9794 - val_accuracy: 0.2909\n",
      "Epoch 7/10\n",
      "165/165 [==============================] - 37s 226ms/step - loss: 1.9452 - accuracy: 0.3084 - val_loss: 2.0195 - val_accuracy: 0.2545\n",
      "Epoch 8/10\n",
      "165/165 [==============================] - 37s 226ms/step - loss: 1.9047 - accuracy: 0.3403 - val_loss: 2.0483 - val_accuracy: 0.2545\n",
      "Epoch 9/10\n",
      "165/165 [==============================] - 37s 226ms/step - loss: 1.8093 - accuracy: 0.3452 - val_loss: 2.2258 - val_accuracy: 0.2545\n",
      "Epoch 10/10\n",
      "165/165 [==============================] - 37s 226ms/step - loss: 1.8871 - accuracy: 0.3188 - val_loss: 2.4185 - val_accuracy: 0.2455\n",
      "CPU times: user 4min 56s, sys: 1min 29s, total: 6min 26s\n",
      "Wall time: 6min 15s\n"
     ]
    }
   ],
   "source": [
    "%%time\n",
    "\n",
    "History = model.fit(X_train, y_train,\n",
    "                   epochs = epochs,\n",
    "                   batch_size = batch_size,\n",
    "                   validation_data = (X_val, y_val))"
   ]
  },
  {
   "cell_type": "markdown",
   "id": "contained-metallic",
   "metadata": {},
   "source": [
    "### 2.1.4 Fitted Model Visualization"
   ]
  },
  {
   "cell_type": "code",
   "execution_count": 38,
   "id": "recovered-large",
   "metadata": {},
   "outputs": [
    {
     "data": {
      "image/png": "[encoded data removed]",
      "text/plain": [
       "<Figure size 648x432 with 1 Axes>"
      ]
     },
     "metadata": {
      "needs_background": "light"
     },
     "output_type": "display_data"
    }
   ],
   "source": [
    "import matplotlib.pyplot as plt\n",
    "\n",
    "epochs = range(1, len(History.history['loss']) + 1)\n",
    "\n",
    "plt.figure(figsize = (9, 6))\n",
    "plt.plot(epochs, History.history['loss'])\n",
    "plt.plot(epochs, History.history['val_loss'])\n",
    "\n",
    "plt.title('Training & Validation Loss')\n",
    "plt.xlabel('Epochs')\n",
    "plt.ylabel('Loss')\n",
    "plt.legend(['Training Loss', 'Validation Loss'])\n",
    "plt.grid()\n",
    "plt.show()"
   ]
  },
  {
   "cell_type": "code",
   "execution_count": 39,
   "id": "flexible-hands",
   "metadata": {},
   "outputs": [
    {
     "data": {
      "image/png": "[encoded data removed]",
      "text/plain": [
       "<Figure size 648x432 with 1 Axes>"
      ]
     },
     "metadata": {
      "needs_background": "light"
     },
     "output_type": "display_data"
    }
   ],
   "source": [
    "import matplotlib.pyplot as plt\n",
    "\n",
    "epochs = range(1, len(History.history['loss']) + 1)\n",
    "\n",
    "plt.figure(figsize = (9, 6))\n",
    "plt.plot(epochs, History.history['accuracy'])\n",
    "plt.plot(epochs, History.history['val_accuracy'])\n",
    "\n",
    "plt.title('Training & Validation Loss')\n",
    "plt.xlabel('Epochs')\n",
    "plt.ylabel('Accuracy')\n",
    "plt.legend(['Training Accuracy', 'Validation Accuracy'])\n",
    "plt.grid()\n",
    "plt.show()"
   ]
  },
  {
   "cell_type": "markdown",
   "id": "painful-crown",
   "metadata": {},
   "source": [
    "### 2.1.5 Model Evaluate"
   ]
  },
  {
   "cell_type": "code",
   "execution_count": 42,
   "id": "classical-assistant",
   "metadata": {
    "scrolled": true
   },
   "outputs": [
    {
     "name": "stdout",
     "output_type": "stream",
     "text": [
      "55/55 [==============================] - 4s 68ms/step - loss: 2.7691 - accuracy: 0.2818\n",
      "Loss = 2.76906\n",
      "Accuracy = 0.28182\n"
     ]
    }
   ],
   "source": [
    "loss, accuracy = model.evaluate(X_test, y_test,\n",
    "                                batch_size = batch_size)\n",
    "\n",
    "print('Loss = {:.5f}'.format(loss))\n",
    "print('Accuracy = {:.5f}'.format(accuracy))"
   ]
  },
  {
   "cell_type": "markdown",
   "id": "wicked-tender",
   "metadata": {},
   "source": [
    "### 2.1.6 Model Save"
   ]
  },
  {
   "cell_type": "code",
   "execution_count": 43,
   "id": "informational-tower",
   "metadata": {},
   "outputs": [],
   "source": [
    "save_dir = 'Models'\n",
    "\n",
    "if not os.path.exists(save_dir):\n",
    "    os.makedirs(save_dir)\n",
    "\n",
    "final_model_name = '/' + scale + '_' + model_name + '.h5'\n",
    "\n",
    "model.save(save_dir + final_model_name)"
   ]
  },
  {
   "cell_type": "markdown",
   "id": "stylish-birmingham",
   "metadata": {},
   "source": [
    "### 2.1.7 Saved Model Test"
   ]
  },
  {
   "cell_type": "code",
   "execution_count": 44,
   "id": "tribal-belgium",
   "metadata": {},
   "outputs": [
    {
     "name": "stdout",
     "output_type": "stream",
     "text": [
      "55/55 [==============================] - 4s 65ms/step - loss: 2.7691 - accuracy: 0.2818\n",
      "Loss = 2.76906\n",
      "Accuracy = 0.28182\n"
     ]
    }
   ],
   "source": [
    "from keras.models import load_model\n",
    "\n",
    "gray_c3d = load_model(save_dir + final_model_name)\n",
    "\n",
    "loss, accuracy = gray_c3d.evaluate(X_test, y_test,\n",
    "                                batch_size = batch_size)\n",
    "\n",
    "print('Loss = {:.5f}'.format(loss))\n",
    "print('Accuracy = {:.5f}'.format(accuracy))"
   ]
  }
 ],
 "metadata": {
  "kernelspec": {
   "display_name": "Python 3",
   "language": "python",
   "name": "python3"
  },
  "language_info": {
   "codemirror_mode": {
    "name": "ipython",
    "version": 3
   },
   "file_extension": ".py",
   "mimetype": "text/x-python",
   "name": "python",
   "nbconvert_exporter": "python",
   "pygments_lexer": "ipython3",
   "version": "3.6.9"
  }
 },
 "nbformat": 4,
 "nbformat_minor": 5
}
